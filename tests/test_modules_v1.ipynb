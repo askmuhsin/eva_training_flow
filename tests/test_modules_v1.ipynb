{
 "cells": [
  {
   "cell_type": "code",
   "execution_count": 1,
   "id": "904d3cf6",
   "metadata": {
    "ExecuteTime": {
     "end_time": "2021-07-01T01:56:49.496468Z",
     "start_time": "2021-07-01T01:56:49.471050Z"
    }
   },
   "outputs": [],
   "source": [
    "%load_ext autoreload\n",
    "%autoreload 2"
   ]
  },
  {
   "cell_type": "code",
   "execution_count": 2,
   "id": "102a6256",
   "metadata": {
    "ExecuteTime": {
     "end_time": "2021-07-01T02:08:51.946126Z",
     "start_time": "2021-07-01T02:08:51.941950Z"
    }
   },
   "outputs": [],
   "source": [
    "import sys\n",
    "\n",
    "sys.path.append('../')"
   ]
  },
  {
   "cell_type": "code",
   "execution_count": 3,
   "id": "a3a32e0d",
   "metadata": {
    "ExecuteTime": {
     "end_time": "2021-07-01T02:08:56.893023Z",
     "start_time": "2021-07-01T02:08:52.699601Z"
    }
   },
   "outputs": [],
   "source": [
    "from models import resnet_v1, resnet_v2\n",
    "from utils import (\n",
    "    setup, data, viz\n",
    ")\n",
    "from utils.training import train\n",
    "from utils.testing import test\n",
    "\n",
    "import torch\n",
    "import torch.nn as nn\n",
    "import torch.optim as optim\n",
    "import numpy as np"
   ]
  },
  {
   "cell_type": "code",
   "execution_count": 4,
   "id": "27c6d548",
   "metadata": {
    "ExecuteTime": {
     "end_time": "2021-07-01T01:57:01.911213Z",
     "start_time": "2021-07-01T01:57:01.797472Z"
    }
   },
   "outputs": [
    {
     "name": "stdout",
     "output_type": "stream",
     "text": [
      "[INFO] seed set 1\n",
      "[INFO] Cuda Avaliable :  False\n",
      "[INFO] device :  cpu\n"
     ]
    }
   ],
   "source": [
    "setup.set_seed()\n",
    "cuda = setup.is_cuda()\n",
    "device = setup.get_device()"
   ]
  },
  {
   "cell_type": "code",
   "execution_count": 5,
   "id": "db3fe3f1",
   "metadata": {
    "ExecuteTime": {
     "end_time": "2021-07-01T01:57:06.796016Z",
     "start_time": "2021-07-01T01:57:02.642007Z"
    }
   },
   "outputs": [
    {
     "name": "stdout",
     "output_type": "stream",
     "text": [
      "Files already downloaded and verified\n",
      "[INFO] train dataset of size 50000 loaded...\n",
      "Files already downloaded and verified\n",
      "[INFO] test dataset of size 10000 loaded...\n"
     ]
    }
   ],
   "source": [
    "train_loader = data.CIFAR10_dataset(\n",
    "    train=True, cuda=cuda\n",
    ").get_loader()\n",
    "test_loader = data.CIFAR10_dataset(\n",
    "    train=False, cuda=cuda\n",
    ").get_loader()"
   ]
  },
  {
   "cell_type": "code",
   "execution_count": 12,
   "id": "eed5e4ce",
   "metadata": {
    "ExecuteTime": {
     "end_time": "2021-07-01T01:57:15.738001Z",
     "start_time": "2021-07-01T01:57:07.657009Z"
    },
    "tags": []
   },
   "outputs": [
    {
     "name": "stdout",
     "output_type": "stream",
     "text": [
      "----------------------------------------------------------------\n",
      "        Layer (type)               Output Shape         Param #\n",
      "================================================================\n",
      "            Conv2d-1           [-1, 64, 32, 32]           1,728\n",
      "       BatchNorm2d-2           [-1, 64, 32, 32]             128\n",
      "            Conv2d-3           [-1, 64, 32, 32]          36,864\n",
      "       BatchNorm2d-4           [-1, 64, 32, 32]             128\n",
      "            Conv2d-5           [-1, 64, 32, 32]          36,864\n",
      "       BatchNorm2d-6           [-1, 64, 32, 32]             128\n",
      "        BasicBlock-7           [-1, 64, 32, 32]               0\n",
      "            Conv2d-8           [-1, 64, 32, 32]          36,864\n",
      "       BatchNorm2d-9           [-1, 64, 32, 32]             128\n",
      "           Conv2d-10           [-1, 64, 32, 32]          36,864\n",
      "      BatchNorm2d-11           [-1, 64, 32, 32]             128\n",
      "       BasicBlock-12           [-1, 64, 32, 32]               0\n",
      "           Conv2d-13          [-1, 128, 17, 17]          73,728\n",
      "      BatchNorm2d-14          [-1, 128, 17, 17]             256\n",
      "           Conv2d-15          [-1, 128, 17, 17]         147,456\n",
      "      BatchNorm2d-16          [-1, 128, 17, 17]             256\n",
      "           Conv2d-17          [-1, 128, 17, 17]           8,192\n",
      "      BatchNorm2d-18          [-1, 128, 17, 17]             256\n",
      "       BasicBlock-19          [-1, 128, 17, 17]               0\n",
      "           Conv2d-20          [-1, 128, 17, 17]         147,456\n",
      "      BatchNorm2d-21          [-1, 128, 17, 17]             256\n",
      "           Conv2d-22          [-1, 128, 17, 17]         147,456\n",
      "      BatchNorm2d-23          [-1, 128, 17, 17]             256\n",
      "       BasicBlock-24          [-1, 128, 17, 17]               0\n",
      "           Conv2d-25          [-1, 256, 10, 10]         294,912\n",
      "      BatchNorm2d-26          [-1, 256, 10, 10]             512\n",
      "           Conv2d-27          [-1, 256, 10, 10]         589,824\n",
      "      BatchNorm2d-28          [-1, 256, 10, 10]             512\n",
      "           Conv2d-29          [-1, 256, 10, 10]          32,768\n",
      "      BatchNorm2d-30          [-1, 256, 10, 10]             512\n",
      "       BasicBlock-31          [-1, 256, 10, 10]               0\n",
      "           Conv2d-32          [-1, 256, 10, 10]         589,824\n",
      "      BatchNorm2d-33          [-1, 256, 10, 10]             512\n",
      "           Conv2d-34          [-1, 256, 10, 10]         589,824\n",
      "      BatchNorm2d-35          [-1, 256, 10, 10]             512\n",
      "       BasicBlock-36          [-1, 256, 10, 10]               0\n",
      "           Conv2d-37            [-1, 512, 6, 6]       1,179,648\n",
      "      BatchNorm2d-38            [-1, 512, 6, 6]           1,024\n",
      "           Conv2d-39            [-1, 512, 6, 6]       2,359,296\n",
      "      BatchNorm2d-40            [-1, 512, 6, 6]           1,024\n",
      "           Conv2d-41            [-1, 512, 6, 6]         131,072\n",
      "      BatchNorm2d-42            [-1, 512, 6, 6]           1,024\n",
      "       BasicBlock-43            [-1, 512, 6, 6]               0\n",
      "           Conv2d-44            [-1, 512, 6, 6]       2,359,296\n",
      "      BatchNorm2d-45            [-1, 512, 6, 6]           1,024\n",
      "           Conv2d-46            [-1, 512, 6, 6]       2,359,296\n",
      "      BatchNorm2d-47            [-1, 512, 6, 6]           1,024\n",
      "       BasicBlock-48            [-1, 512, 6, 6]               0\n",
      "           Linear-49                   [-1, 10]           5,130\n",
      "================================================================\n",
      "Total params: 11,173,962\n",
      "Trainable params: 11,173,962\n",
      "Non-trainable params: 0\n",
      "----------------------------------------------------------------\n",
      "Input size (MB): 0.01\n",
      "Forward/backward pass size (MB): 13.42\n",
      "Params size (MB): 42.63\n",
      "Estimated Total Size (MB): 56.06\n",
      "----------------------------------------------------------------\n"
     ]
    }
   ],
   "source": [
    "# model = resnet_v1.ResNet18\n",
    "model = resnet_v2.ResNet18\n",
    "net = model().to(device)\n",
    "viz.show_model_summary(net, input_size=(3, 32, 32))"
   ]
  },
  {
   "cell_type": "code",
   "execution_count": 7,
   "id": "1cdb5785",
   "metadata": {
    "ExecuteTime": {
     "end_time": "2021-07-01T01:45:23.809756Z",
     "start_time": "2021-07-01T01:45:23.772241Z"
    }
   },
   "outputs": [],
   "source": [
    "## 11,173,962"
   ]
  },
  {
   "cell_type": "code",
   "execution_count": null,
   "id": "b83393eb-b76c-4837-a966-dd1e399bd1c9",
   "metadata": {},
   "outputs": [],
   "source": []
  },
  {
   "cell_type": "code",
   "execution_count": 14,
   "id": "1558013e",
   "metadata": {
    "ExecuteTime": {
     "end_time": "2021-07-01T02:03:38.105637Z",
     "start_time": "2021-07-01T02:03:38.057454Z"
    },
    "jupyter": {
     "source_hidden": true
    },
    "tags": []
   },
   "outputs": [],
   "source": [
    "criterion = nn.CrossEntropyLoss()\n",
    "optimizer = optim.SGD(\n",
    "    net.parameters(), lr=0.01,\n",
    "    momentum=0.9, weight_decay=5e-4\n",
    ")\n",
    "scheduler = torch.optim.lr_scheduler.CosineAnnealingLR(optimizer, T_max=200)\n",
    "\n",
    "EPOCHS = 2"
   ]
  },
  {
   "cell_type": "code",
   "execution_count": 16,
   "id": "5df22561",
   "metadata": {
    "ExecuteTime": {
     "end_time": "2021-07-01T02:05:00.500809Z",
     "start_time": "2021-07-01T02:03:57.492882Z"
    },
    "scrolled": true,
    "tags": []
   },
   "outputs": [
    {
     "name": "stderr",
     "output_type": "stream",
     "text": [
      "TRAIN Epoch:0 Loss:0.8016 Batch:390 Acc:76.10: 100%|██████████| 391/391 [00:28<00:00, 13.62it/s]\n",
      "  0%|          | 0/391 [00:00<?, ?it/s]"
     ]
    },
    {
     "name": "stdout",
     "output_type": "stream",
     "text": [
      "TEST         Loss:0.0043         Acc:80.75         [8075 / 10000]\n"
     ]
    },
    {
     "name": "stderr",
     "output_type": "stream",
     "text": [
      "TRAIN Epoch:1 Loss:0.5996 Batch:390 Acc:79.01: 100%|██████████| 391/391 [00:28<00:00, 13.67it/s]\n"
     ]
    },
    {
     "name": "stdout",
     "output_type": "stream",
     "text": [
      "TEST         Loss:0.0041         Acc:81.65         [8165 / 10000]\n"
     ]
    }
   ],
   "source": [
    "for epoch in range(EPOCHS):\n",
    "    train_batch_loss, train_batch_acc= train(\n",
    "        net, device, \n",
    "        train_loader, optimizer, criterion, epoch,\n",
    "    )\n",
    "    train_loss = np.mean(train_batch_loss)\n",
    "    train_acc = np.mean(train_batch_acc)\n",
    "    test_loss, test_acc = test(\n",
    "        net, device,\n",
    "        test_loader, criterion, epoch,\n",
    "    )\n",
    "    scheduler.step()"
   ]
  },
  {
   "cell_type": "code",
   "execution_count": 17,
   "id": "14eacce2",
   "metadata": {
    "ExecuteTime": {
     "end_time": "2021-07-01T02:05:09.608785Z",
     "start_time": "2021-07-01T02:05:09.535737Z"
    }
   },
   "outputs": [
    {
     "data": {
      "text/plain": [
       "(0.6048094331455962, 78.86345923509285, 0.004068706184625626, 81.65)"
      ]
     },
     "execution_count": 17,
     "metadata": {},
     "output_type": "execute_result"
    }
   ],
   "source": [
    "train_loss, train_acc, test_loss, test_acc"
   ]
  }
 ],
 "metadata": {
  "kernelspec": {
   "display_name": "ds_toolkit_env",
   "language": "python",
   "name": "ds_toolkit_env"
  },
  "language_info": {
   "codemirror_mode": {
    "name": "ipython",
    "version": 3
   },
   "file_extension": ".py",
   "mimetype": "text/x-python",
   "name": "python",
   "nbconvert_exporter": "python",
   "pygments_lexer": "ipython3",
   "version": "3.8.2"
  }
 },
 "nbformat": 4,
 "nbformat_minor": 5
}

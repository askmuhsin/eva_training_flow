{
 "cells": [
  {
   "cell_type": "code",
   "execution_count": 1,
   "metadata": {
    "ExecuteTime": {
     "end_time": "2021-07-11T10:33:47.124055Z",
     "start_time": "2021-07-11T10:33:47.107549Z"
    }
   },
   "outputs": [],
   "source": [
    "%load_ext autoreload\n",
    "%autoreload 2"
   ]
  },
  {
   "cell_type": "code",
   "execution_count": 2,
   "metadata": {
    "ExecuteTime": {
     "end_time": "2021-07-11T10:33:47.369404Z",
     "start_time": "2021-07-11T10:33:47.314896Z"
    }
   },
   "outputs": [],
   "source": [
    "import sys\n",
    "\n",
    "sys.path.append('../')"
   ]
  },
  {
   "cell_type": "code",
   "execution_count": 3,
   "metadata": {
    "ExecuteTime": {
     "end_time": "2021-07-11T10:33:49.509876Z",
     "start_time": "2021-07-11T10:33:47.798360Z"
    }
   },
   "outputs": [
    {
     "name": "stdout",
     "output_type": "stream",
     "text": [
      "CUDA environment device set to 0\n"
     ]
    }
   ],
   "source": [
    "from ds_toolkit.general_utils.gpu_utils import addGPU\n",
    "addGPU()"
   ]
  },
  {
   "cell_type": "code",
   "execution_count": 4,
   "metadata": {
    "ExecuteTime": {
     "end_time": "2021-07-11T10:33:53.544772Z",
     "start_time": "2021-07-11T10:33:49.514007Z"
    }
   },
   "outputs": [
    {
     "name": "stdout",
     "output_type": "stream",
     "text": [
      "[INFO] seed set 1\n",
      "[INFO] Cuda Avaliable :  True\n",
      "[INFO] device :  cuda\n"
     ]
    }
   ],
   "source": [
    "from main import Trainer\n",
    "from models import (\n",
    "    resnet_v1,\n",
    "    resnet_v2_6ch_ending,\n",
    "    resnet_v3_GAP_v1_k3_p1,\n",
    "    resnet_v3_GAP_v2_k1_p1,\n",
    "    resnet_v3_GAP_v3_k1_p0,\n",
    ")\n",
    "\n",
    "try:\n",
    "    import wandb\n",
    "except ModuleNotFoundError as e:\n",
    "    print(e, 'Logging module failed to import !')\n",
    "\n",
    "epochs = 40"
   ]
  },
  {
   "cell_type": "markdown",
   "metadata": {},
   "source": [
    "## Resnet with 6X6 channel size ending"
   ]
  },
  {
   "cell_type": "code",
   "execution_count": 5,
   "metadata": {
    "ExecuteTime": {
     "end_time": "2021-07-11T10:34:03.712558Z",
     "start_time": "2021-07-11T10:33:53.548565Z"
    }
   },
   "outputs": [
    {
     "name": "stdout",
     "output_type": "stream",
     "text": [
      "[INFO] Loading Data\n",
      "Files already downloaded and verified\n",
      "[INFO] train dataset of size 50000 loaded...\n",
      "Files already downloaded and verified\n",
      "[INFO] test dataset of size 10000 loaded...\n",
      "Files already downloaded and verified\n",
      "[INFO] test dataset of size 10000 loaded...\n",
      "----------------------------------------------------------------\n",
      "        Layer (type)               Output Shape         Param #\n",
      "================================================================\n",
      "            Conv2d-1           [-1, 64, 28, 28]           1,728\n",
      "       BatchNorm2d-2           [-1, 64, 28, 28]             128\n",
      "            Conv2d-3           [-1, 64, 28, 28]          36,864\n",
      "       BatchNorm2d-4           [-1, 64, 28, 28]             128\n",
      "            Conv2d-5           [-1, 64, 28, 28]          36,864\n",
      "       BatchNorm2d-6           [-1, 64, 28, 28]             128\n",
      "        BasicBlock-7           [-1, 64, 28, 28]               0\n",
      "            Conv2d-8           [-1, 64, 28, 28]          36,864\n",
      "       BatchNorm2d-9           [-1, 64, 28, 28]             128\n",
      "           Conv2d-10           [-1, 64, 28, 28]          36,864\n",
      "      BatchNorm2d-11           [-1, 64, 28, 28]             128\n",
      "       BasicBlock-12           [-1, 64, 28, 28]               0\n",
      "           Conv2d-13          [-1, 128, 15, 15]          73,728\n",
      "      BatchNorm2d-14          [-1, 128, 15, 15]             256\n",
      "           Conv2d-15          [-1, 128, 15, 15]         147,456\n",
      "      BatchNorm2d-16          [-1, 128, 15, 15]             256\n",
      "           Conv2d-17          [-1, 128, 15, 15]           8,192\n",
      "      BatchNorm2d-18          [-1, 128, 15, 15]             256\n",
      "       BasicBlock-19          [-1, 128, 15, 15]               0\n",
      "           Conv2d-20          [-1, 128, 15, 15]         147,456\n",
      "      BatchNorm2d-21          [-1, 128, 15, 15]             256\n",
      "           Conv2d-22          [-1, 128, 15, 15]         147,456\n",
      "      BatchNorm2d-23          [-1, 128, 15, 15]             256\n",
      "       BasicBlock-24          [-1, 128, 15, 15]               0\n",
      "           Conv2d-25            [-1, 256, 9, 9]         294,912\n",
      "      BatchNorm2d-26            [-1, 256, 9, 9]             512\n",
      "           Conv2d-27            [-1, 256, 9, 9]         589,824\n",
      "      BatchNorm2d-28            [-1, 256, 9, 9]             512\n",
      "           Conv2d-29            [-1, 256, 9, 9]          32,768\n",
      "      BatchNorm2d-30            [-1, 256, 9, 9]             512\n",
      "       BasicBlock-31            [-1, 256, 9, 9]               0\n",
      "           Conv2d-32            [-1, 256, 9, 9]         589,824\n",
      "      BatchNorm2d-33            [-1, 256, 9, 9]             512\n",
      "           Conv2d-34            [-1, 256, 9, 9]         589,824\n",
      "      BatchNorm2d-35            [-1, 256, 9, 9]             512\n",
      "       BasicBlock-36            [-1, 256, 9, 9]               0\n",
      "           Conv2d-37            [-1, 512, 6, 6]       1,179,648\n",
      "      BatchNorm2d-38            [-1, 512, 6, 6]           1,024\n",
      "           Conv2d-39            [-1, 512, 6, 6]       2,359,296\n",
      "      BatchNorm2d-40            [-1, 512, 6, 6]           1,024\n",
      "           Conv2d-41            [-1, 512, 6, 6]         131,072\n",
      "      BatchNorm2d-42            [-1, 512, 6, 6]           1,024\n",
      "       BasicBlock-43            [-1, 512, 6, 6]               0\n",
      "           Conv2d-44            [-1, 512, 6, 6]       2,359,296\n",
      "      BatchNorm2d-45            [-1, 512, 6, 6]           1,024\n",
      "           Conv2d-46            [-1, 512, 6, 6]       2,359,296\n",
      "      BatchNorm2d-47            [-1, 512, 6, 6]           1,024\n",
      "       BasicBlock-48            [-1, 512, 6, 6]               0\n",
      "           Linear-49                   [-1, 10]           5,130\n",
      "================================================================\n",
      "Total params: 11,173,962\n",
      "Trainable params: 11,173,962\n",
      "Non-trainable params: 0\n",
      "----------------------------------------------------------------\n",
      "Input size (MB): 0.01\n",
      "Forward/backward pass size (MB): 10.82\n",
      "Params size (MB): 42.63\n",
      "Estimated Total Size (MB): 53.45\n",
      "----------------------------------------------------------------\n",
      "[INFO] Loading model to from path ../data/model_state/R18_6_channel_with_augmentation_3_repeat.pt\n",
      "TEST         Loss:0.0057         Acc:82.89         [8289 / 10000]\n"
     ]
    }
   ],
   "source": [
    "trainer = Trainer(\n",
    "    resnet_v2_6ch_ending.ResNet18(),\n",
    "    model_path='../data/model_state/R18_6_channel_with_augmentation_3_repeat.pt'\n",
    ")"
   ]
  },
  {
   "cell_type": "code",
   "execution_count": 31,
   "metadata": {
    "ExecuteTime": {
     "end_time": "2021-07-11T10:41:56.839042Z",
     "start_time": "2021-07-11T10:41:56.781452Z"
    }
   },
   "outputs": [
    {
     "name": "stdout",
     "output_type": "stream",
     "text": [
      "[INFO] device :  cuda\n"
     ]
    }
   ],
   "source": [
    "from utils.setup import get_device\n",
    "from collections import defaultdict\n",
    "import torch\n",
    "\n",
    "device = get_device()"
   ]
  },
  {
   "cell_type": "code",
   "execution_count": 25,
   "metadata": {
    "ExecuteTime": {
     "end_time": "2021-07-11T10:41:09.997056Z",
     "start_time": "2021-07-11T10:41:09.533612Z"
    }
   },
   "outputs": [],
   "source": [
    "selected_preds = defaultdict(lambda x: defaultdict(list))\n",
    "with torch.no_grad():\n",
    "    for data, target in trainer.test_loader:\n",
    "        data, target = data.to(device), target.to(device)\n",
    "        y_pred = trainer.net(data)\n",
    "        pred = y_pred.argmax(dim=1, keepdim=True)\n",
    "        correctness = pred.eq(target.view_as(pred))\n",
    "        for n, correct in enumerate(correctness):\n",
    "            if correct[0]:\n",
    "                selected_preds['correct'][target[n].item()].append()\n",
    "            else:\n",
    "                selected_preds['mistakes'][target[n].item()].append()\n",
    "        break"
   ]
  },
  {
   "cell_type": "code",
   "execution_count": 34,
   "metadata": {
    "ExecuteTime": {
     "end_time": "2021-07-11T10:44:24.815342Z",
     "start_time": "2021-07-11T10:44:24.752988Z"
    }
   },
   "outputs": [
    {
     "data": {
      "text/plain": [
       "3"
      ]
     },
     "execution_count": 34,
     "metadata": {},
     "output_type": "execute_result"
    }
   ],
   "source": [
    "target[0].item()"
   ]
  },
  {
   "cell_type": "code",
   "execution_count": 16,
   "metadata": {
    "ExecuteTime": {
     "end_time": "2021-07-11T10:36:34.282818Z",
     "start_time": "2021-07-11T10:36:34.224305Z"
    }
   },
   "outputs": [
    {
     "data": {
      "text/plain": [
       "[(tensor([True], device='cuda:0'),\n",
       "  tensor(3, device='cuda:0'),\n",
       "  tensor([3], device='cuda:0'))]"
      ]
     },
     "execution_count": 16,
     "metadata": {},
     "output_type": "execute_result"
    }
   ],
   "source": [
    "[x for x in zip(correctness, target, pred)][:1]"
   ]
  },
  {
   "cell_type": "code",
   "execution_count": 19,
   "metadata": {
    "ExecuteTime": {
     "end_time": "2021-07-11T10:36:58.187628Z",
     "start_time": "2021-07-11T10:36:58.141838Z"
    }
   },
   "outputs": [
    {
     "data": {
      "text/plain": [
       "128"
      ]
     },
     "execution_count": 19,
     "metadata": {},
     "output_type": "execute_result"
    }
   ],
   "source": [
    "len(data)"
   ]
  },
  {
   "cell_type": "code",
   "execution_count": 23,
   "metadata": {
    "ExecuteTime": {
     "end_time": "2021-07-11T10:38:29.931059Z",
     "start_time": "2021-07-11T10:38:29.825665Z"
    }
   },
   "outputs": [
    {
     "ename": "ValueError",
     "evalue": "batch_size attribute should not be set after DataLoader is initialized",
     "output_type": "error",
     "traceback": [
      "\u001b[0;31m---------------------------------------------------------------------------\u001b[0m",
      "\u001b[0;31mValueError\u001b[0m                                Traceback (most recent call last)",
      "\u001b[0;32m<ipython-input-23-d2a66d3518c8>\u001b[0m in \u001b[0;36m<module>\u001b[0;34m\u001b[0m\n\u001b[0;32m----> 1\u001b[0;31m \u001b[0mtrainer\u001b[0m\u001b[0;34m.\u001b[0m\u001b[0mtest_loader\u001b[0m\u001b[0;34m.\u001b[0m\u001b[0mbatch_size\u001b[0m \u001b[0;34m=\u001b[0m \u001b[0;36m1\u001b[0m\u001b[0;34m\u001b[0m\u001b[0;34m\u001b[0m\u001b[0m\n\u001b[0m",
      "\u001b[0;32m/data/safe/envs/dask_env/lib/python3.6/site-packages/torch/utils/data/dataloader.py\u001b[0m in \u001b[0;36m__setattr__\u001b[0;34m(self, attr, val)\u001b[0m\n\u001b[1;32m    338\u001b[0m                 'batch_size', 'batch_sampler', 'sampler', 'drop_last', 'dataset', 'persistent_workers'):\n\u001b[1;32m    339\u001b[0m             raise ValueError('{} attribute should not be set after {} is '\n\u001b[0;32m--> 340\u001b[0;31m                              'initialized'.format(attr, self.__class__.__name__))\n\u001b[0m\u001b[1;32m    341\u001b[0m \u001b[0;34m\u001b[0m\u001b[0m\n\u001b[1;32m    342\u001b[0m         \u001b[0msuper\u001b[0m\u001b[0;34m(\u001b[0m\u001b[0mDataLoader\u001b[0m\u001b[0;34m,\u001b[0m \u001b[0mself\u001b[0m\u001b[0;34m)\u001b[0m\u001b[0;34m.\u001b[0m\u001b[0m__setattr__\u001b[0m\u001b[0;34m(\u001b[0m\u001b[0mattr\u001b[0m\u001b[0;34m,\u001b[0m \u001b[0mval\u001b[0m\u001b[0;34m)\u001b[0m\u001b[0;34m\u001b[0m\u001b[0;34m\u001b[0m\u001b[0m\n",
      "\u001b[0;31mValueError\u001b[0m: batch_size attribute should not be set after DataLoader is initialized"
     ]
    }
   ],
   "source": [
    "trainer.test_loader.batch_size = 1"
   ]
  },
  {
   "cell_type": "code",
   "execution_count": 24,
   "metadata": {
    "ExecuteTime": {
     "end_time": "2021-07-11T10:39:41.433939Z",
     "start_time": "2021-07-11T10:39:39.250170Z"
    }
   },
   "outputs": [
    {
     "name": "stdout",
     "output_type": "stream",
     "text": [
      "0 128\n",
      "1 128\n",
      "2 128\n",
      "3 128\n",
      "4 128\n",
      "5 128\n",
      "6 128\n",
      "7 128\n",
      "8 128\n",
      "9 128\n",
      "10 128\n",
      "11 128\n",
      "12 128\n",
      "13 128\n",
      "14 128\n",
      "15 128\n",
      "16 128\n",
      "17 128\n",
      "18 128\n",
      "19 128\n",
      "20 128\n",
      "21 128\n",
      "22 128\n",
      "23 128\n",
      "24 128\n",
      "25 128\n",
      "26 128\n",
      "27 128\n",
      "28 128\n",
      "29 128\n",
      "30 128\n",
      "31 128\n",
      "32 128\n",
      "33 128\n",
      "34 128\n",
      "35 128\n",
      "36 128\n",
      "37 128\n",
      "38 128\n",
      "39 128\n",
      "40 128\n",
      "41 128\n",
      "42 128\n",
      "43 128\n",
      "44 128\n",
      "45 128\n",
      "46 128\n",
      "47 128\n",
      "48 128\n",
      "49 128\n",
      "50 128\n",
      "51 128\n",
      "52 128\n",
      "53 128\n",
      "54 128\n",
      "55 128\n",
      "56 128\n",
      "57 128\n",
      "58 128\n",
      "59 128\n",
      "60 128\n",
      "61 128\n",
      "62 128\n",
      "63 128\n",
      "64 128\n",
      "65 128\n",
      "66 128\n",
      "67 128\n",
      "68 128\n",
      "69 128\n",
      "70 128\n",
      "71 128\n",
      "72 128\n",
      "73 128\n",
      "74 128\n",
      "75 128\n",
      "76 128\n",
      "77 128\n",
      "78 16\n"
     ]
    }
   ],
   "source": [
    "for batch_idx, (data, target) in enumerate(trainer.test_loader):\n",
    "    print(batch_idx, len(data))"
   ]
  },
  {
   "cell_type": "code",
   "execution_count": null,
   "metadata": {},
   "outputs": [],
   "source": []
  }
 ],
 "metadata": {
  "kernelspec": {
   "display_name": "Python3.6",
   "language": "python",
   "name": "python3.6"
  },
  "language_info": {
   "codemirror_mode": {
    "name": "ipython",
    "version": 3
   },
   "file_extension": ".py",
   "mimetype": "text/x-python",
   "name": "python",
   "nbconvert_exporter": "python",
   "pygments_lexer": "ipython3",
   "version": "3.6.12"
  }
 },
 "nbformat": 4,
 "nbformat_minor": 2
}

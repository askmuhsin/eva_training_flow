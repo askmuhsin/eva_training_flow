{
 "cells": [
  {
   "cell_type": "code",
   "execution_count": 2,
   "id": "c2645e3a-20dc-4ac5-b63c-e1f991dea1e3",
   "metadata": {},
   "outputs": [
    {
     "name": "stdout",
     "output_type": "stream",
     "text": [
      "README.md main.py   \u001b[1m\u001b[36mmodels\u001b[m\u001b[m    \u001b[1m\u001b[36mtests\u001b[m\u001b[m\n"
     ]
    }
   ],
   "source": [
    "! ls ../"
   ]
  },
  {
   "cell_type": "code",
   "execution_count": 5,
   "id": "3e531819-0317-4da7-84b7-c14efb553dbc",
   "metadata": {},
   "outputs": [],
   "source": [
    "import sys"
   ]
  },
  {
   "cell_type": "code",
   "execution_count": 7,
   "id": "b655b5a1-c0bc-472a-b791-535801aa7b07",
   "metadata": {},
   "outputs": [],
   "source": [
    "sys.path.append('../')"
   ]
  },
  {
   "cell_type": "code",
   "execution_count": 14,
   "id": "2ca3c889-2260-4755-815b-2f3e322eb6bb",
   "metadata": {},
   "outputs": [],
   "source": [
    "from models.resnet import test, ResNet18\n",
    "from torchsummary import summary"
   ]
  },
  {
   "cell_type": "code",
   "execution_count": null,
   "id": "1772a536-9f6e-4667-b20c-a73c1b59c864",
   "metadata": {},
   "outputs": [],
   "source": []
  },
  {
   "cell_type": "code",
   "execution_count": null,
   "id": "7693997c-851c-4676-89bc-9770fd76e6a2",
   "metadata": {},
   "outputs": [],
   "source": [
    "from utils import setup, "
   ]
  }
 ],
 "metadata": {
  "kernelspec": {
   "display_name": "Python 3",
   "language": "python",
   "name": "python3"
  },
  "language_info": {
   "codemirror_mode": {
    "name": "ipython",
    "version": 3
   },
   "file_extension": ".py",
   "mimetype": "text/x-python",
   "name": "python",
   "nbconvert_exporter": "python",
   "pygments_lexer": "ipython3",
   "version": "3.8.2"
  }
 },
 "nbformat": 4,
 "nbformat_minor": 5
}

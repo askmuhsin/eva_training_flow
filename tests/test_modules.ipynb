{
 "cells": [
  {
   "cell_type": "code",
   "execution_count": 2,
   "id": "c2645e3a-20dc-4ac5-b63c-e1f991dea1e3",
   "metadata": {},
   "outputs": [
    {
     "name": "stdout",
     "output_type": "stream",
     "text": [
      "README.md main.py   \u001b[1m\u001b[36mmodels\u001b[m\u001b[m    \u001b[1m\u001b[36mtests\u001b[m\u001b[m\n"
     ]
    }
   ],
   "source": [
    "! ls ../"
   ]
  },
  {
   "cell_type": "code",
   "execution_count": 5,
   "id": "3e531819-0317-4da7-84b7-c14efb553dbc",
   "metadata": {},
   "outputs": [],
   "source": [
    "import sys"
   ]
  },
  {
   "cell_type": "code",
   "execution_count": 7,
   "id": "b655b5a1-c0bc-472a-b791-535801aa7b07",
   "metadata": {},
   "outputs": [],
   "source": [
    "sys.path.append('../')"
   ]
  },
  {
   "cell_type": "code",
   "execution_count": 14,
   "id": "2ca3c889-2260-4755-815b-2f3e322eb6bb",
   "metadata": {},
   "outputs": [],
   "source": [
    "from models.resnet import test, ResNet18\n",
    "from torchsummary import summary"
   ]
  },
  {
   "cell_type": "code",
   "execution_count": null,
   "id": "1772a536-9f6e-4667-b20c-a73c1b59c864",
   "metadata": {},
   "outputs": [],
   "source": []
  },
  {
   "cell_type": "code",
   "execution_count": 20,
   "id": "7693997c-851c-4676-89bc-9770fd76e6a2",
   "metadata": {},
   "outputs": [],
   "source": [
    "from utils import (\n",
    "    setup,\n",
    "    data\n",
    ")"
   ]
  },
  {
   "cell_type": "code",
   "execution_count": 19,
   "id": "eb2f8b98-fa2d-4875-a55c-24fc391104ec",
   "metadata": {},
   "outputs": [
    {
     "name": "stdout",
     "output_type": "stream",
     "text": [
      "[INFO] seed set 1\n",
      "[INFO] Cuda Avaliable :  False\n",
      "[INFO] device :  cpu\n"
     ]
    }
   ],
   "source": [
    "setup.set_seed()\n",
    "cuda = setup.is_cuda()\n",
    "device = setup.get_device()"
   ]
  },
  {
   "cell_type": "code",
   "execution_count": 21,
   "id": "c433927d-f7c0-4860-896b-3f95697e7f07",
   "metadata": {},
   "outputs": [
    {
     "ename": "AttributeError",
     "evalue": "module 'utils.data' has no attribute 'CIFAR10_dataset'",
     "output_type": "error",
     "traceback": [
      "\u001b[0;31m---------------------------------------------------------------------------\u001b[0m",
      "\u001b[0;31mAttributeError\u001b[0m                            Traceback (most recent call last)",
      "\u001b[0;32m<ipython-input-21-504449f8dc6e>\u001b[0m in \u001b[0;36m<module>\u001b[0;34m\u001b[0m\n\u001b[0;32m----> 1\u001b[0;31m train_loader = data.CIFAR10_dataset(\n\u001b[0m\u001b[1;32m      2\u001b[0m     \u001b[0mtrain\u001b[0m\u001b[0;34m=\u001b[0m\u001b[0;32mTrue\u001b[0m\u001b[0;34m,\u001b[0m \u001b[0mcuda\u001b[0m\u001b[0;34m=\u001b[0m\u001b[0mcuda\u001b[0m\u001b[0;34m\u001b[0m\u001b[0;34m\u001b[0m\u001b[0m\n\u001b[1;32m      3\u001b[0m ).get_loader()\n\u001b[1;32m      4\u001b[0m test_loader = data.CIFAR10_dataset(\n\u001b[1;32m      5\u001b[0m     \u001b[0mtrain\u001b[0m\u001b[0;34m=\u001b[0m\u001b[0;32mFalse\u001b[0m\u001b[0;34m,\u001b[0m \u001b[0mcuda\u001b[0m\u001b[0;34m=\u001b[0m\u001b[0mcuda\u001b[0m\u001b[0;34m\u001b[0m\u001b[0;34m\u001b[0m\u001b[0m\n",
      "\u001b[0;31mAttributeError\u001b[0m: module 'utils.data' has no attribute 'CIFAR10_dataset'"
     ]
    }
   ],
   "source": [
    "train_loader = data.CIFAR10_dataset(\n",
    "    train=True, cuda=cuda\n",
    ").get_loader()\n",
    "test_loader = data.CIFAR10_dataset(\n",
    "    train=False, cuda=cuda\n",
    ").get_loader()\n"
   ]
  },
  {
   "cell_type": "code",
   "execution_count": null,
   "id": "b8917c98-041e-4a73-ae24-bd575b87f771",
   "metadata": {},
   "outputs": [],
   "source": []
  }
 ],
 "metadata": {
  "kernelspec": {
   "display_name": "Python 3",
   "language": "python",
   "name": "python3"
  },
  "language_info": {
   "codemirror_mode": {
    "name": "ipython",
    "version": 3
   },
   "file_extension": ".py",
   "mimetype": "text/x-python",
   "name": "python",
   "nbconvert_exporter": "python",
   "pygments_lexer": "ipython3",
   "version": "3.8.2"
  }
 },
 "nbformat": 4,
 "nbformat_minor": 5
}
